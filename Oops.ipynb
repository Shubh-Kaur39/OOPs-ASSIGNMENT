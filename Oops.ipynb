{
  "nbformat": 4,
  "nbformat_minor": 0,
  "metadata": {
    "colab": {
      "provenance": []
    },
    "kernelspec": {
      "name": "python3",
      "display_name": "Python 3"
    },
    "language_info": {
      "name": "python"
    }
  },
  "cells": [
    {
      "cell_type": "markdown",
      "source": [
        "\n",
        "# **OOPS ASSIGNMENT**\n",
        "\n",
        "**Q.1 What is Object-Oriented Programming (OOP)?**\n",
        "- OOPs is a object oriented programming languages that uses the concept of classes and objects. Class is a blueprint and objects are instance of a class by which we can access its attributes and can perform methods defined in it. OOPs is of four types: Inheritance, Polymorhism, Abstraction and encapsulation. This approach is widely used in industries to handle large and complex data.\n",
        "\n",
        "**Q.2 What is a class in OOP?**\n",
        "- Class in OOP is a blueprint or a template having properties and methods which can be used to create objects. These variables and methods will be common to all those objects which are instance of this class.\n",
        "Example:\n",
        "\n",
        "\n",
        "```\n",
        "#Here, Welcome is a class...\n",
        "class Welcome:\n",
        "  def greet(self,name):\n",
        "    print('Welcome ',name)\n",
        "obj=Welcome()\n",
        "obj.greet('Shubh')\n",
        "```\n",
        "\n",
        "**Q.3 What is a object in OOP?**\n",
        "- An object is an instance of a class so, we need to create class before creating an object. By an object we can access the variables and methods of a class. It also help to interact with other elements of a program.\n",
        "Example:\n",
        "\n",
        "\n",
        "```\n",
        "#Here, obj is an object of class Welcome...\n",
        "class Welcome:\n",
        "  def greet(self,name):\n",
        "    print('Welcome ',name)\n",
        "obj=Welcome()\n",
        "obj.greet('Shubh')\n",
        "```\n",
        "\n",
        "**Q.4 What is the difference between abstraction and encapsulation?**\n",
        "- Abstraction is a concept of hiding complex and unwanted information and details and exposing only neccessary things whereas encapsulation is a way of storing data and methods in one unit and controlling their access using access modifiers (public, private or protected).\n",
        "\n",
        "```\n",
        "# This is example of abstraction...\n",
        "import abc\n",
        "class Vehicles:\n",
        "  @abc.abstractmethod\n",
        "  def speed(self):\n",
        "    pass\n",
        "class Car(Vehicles):\n",
        "  def speed(self):\n",
        "    return \"Speed of car!!\"\n",
        "obj=Car()\n",
        "```\n",
        "\n",
        "\n",
        "```\n",
        "# This is example of encapsulation in which name is private variable...\n",
        "class Student:\n",
        "  def __init__(self,name):\n",
        "    self.__name=name\n",
        "  def show(self):\n",
        "    print(f'my name is {self.__name}')\n",
        "stud=Student('Shubh')\n",
        "#we can't access stud.__name -> it gives error\n",
        "stud.show()\n",
        "```\n",
        "\n",
        "**Q.5 What are dunder methods in Python?**\n",
        "- Dunder methods are those methods which have double underscore before and after there name like __init__, __repr__, __new__ and many more.These methods are not directly invoked but python invok them interally according to its implementations. In this we change the behaviour of built-in functions in python like in __eq__ and __add__ .\n",
        "\n",
        "\n",
        "```\n",
        "class Point:\n",
        "  def __init__(self,a,b):\n",
        "    self.a=a\n",
        "    self.b=b\n",
        "  def __eq__(self,pt):\n",
        "    return (pt.a==self.a) and (pt.b==self.b)\n",
        "obj1=Point(3,4)\n",
        "obj2=Point(1,5)\n",
        "print(obj1==obj2) # this will invoke __eq__ function\n",
        "```\n",
        "\n",
        "**Q.6 Explain the concept of inheritance in OOP.**\n",
        "- Inheritance refers to the process in which a class receives all the properties and methods of the another class. The class that is inherited from is parent class and the class that inherits is called child class. Inheritance has following 5 types:\n",
        "1. *Single Inheritance* -> When a derived class has only one parent class.\n",
        "\n",
        "```\n",
        "class Base:\n",
        "  pass\n",
        "class Derived(Base):\n",
        "  pass\n",
        "```\n",
        "2. *Multi-level inheritance* -> In this parent class is also inherited from another class.\n",
        "\n",
        "```\n",
        "class Base:\n",
        "  pass\n",
        "class Derived1(Base):\n",
        "  pass\n",
        "class Derived2(Derived1):\n",
        "  pass\n",
        "```\n",
        "3. *Multiple Inheritance* -> In this child class is derived from multiple parent classes.\n",
        "\n",
        "```\n",
        "class Base1:\n",
        "  pass\n",
        "class Base2:\n",
        "  pass\n",
        "class Derived(Base1,Base2):\n",
        "  pass\n",
        "```\n",
        "4. *Heirarchical Inheritance* -> In this multiple child classes are inherited from one parent class.\n",
        "\n",
        "```\n",
        "class Base:\n",
        "  pass\n",
        "class Derived1(Base):\n",
        "  pass\n",
        "class Derived2(Base):\n",
        "  pass\n",
        "class Derived3(Base):\n",
        "  pass\n",
        "```\n",
        "5. *Hybrid Inheritance* -> It is combination of differnent inheritance.\n",
        "\n",
        "```\n",
        "class Base:\n",
        "  pass\n",
        "class Derived1(Base):\n",
        "  pass\n",
        "class Derived2(Base):\n",
        "  pass\n",
        "class Derived3(Derived1,Derived2):\n",
        "  pass\n",
        "```\n",
        "\n",
        "**Q.7 What is polymorphism in OOP?**\n",
        "- Poly means many and morphism means forms/states. so, polymorphism refers to an object taking several forms depending on methods and data.\n",
        "Polymorphism in OOP can be of two types:\n",
        "1. Method Overloading: In this multiple functions are created with same name but different number or type of parameters. Even though, python donot support method overloading directly but in other languages this exists.\n",
        "\n",
        "```\n",
        "# In python, only recent function will run\n",
        "class PwSkills:\n",
        "  def student_details(self,name):\n",
        "    print('Hi! ',name)\n",
        "  def student_details(self,name,course):\n",
        "    print(f'Hi! {name} to {course}')\n",
        "stud1=PwSkills('Shubh')\n",
        "stud2=PwSkills('Shubh','Data Science')\n",
        "```\n",
        "2. Method Overriding: This happens when there exists the function in both parent and child class then the function of child class will be executed.\n",
        "\n",
        "```\n",
        "class Vehicles:\n",
        "  def color(self):\n",
        "    print(\"Color is red...\")\n",
        "class Car(Vehicles):\n",
        "  def color(self):\n",
        "    print(\"Color is black...\")\n",
        "obj=Car()\n",
        "obj.color() # Output is Color is black...\n",
        "```\n",
        "**Q.8 How is encapsulation achieved in Python?**\n",
        "- Encapsulation is bundling of data and methods in a single entity to hide something. It is achieved using access modifiers. There are three types of modifiers public, private and protected.\n",
        "1. Public -> By default every variable and method is public that is these can be accessed and modified from anywhere.\n",
        "\n",
        "```\n",
        "class Student:\n",
        "  def __init__(self,name):\n",
        "    self.name=name\n",
        "obj=Student('Shubh')\n",
        "#We can access name outside class\n",
        "obj.name #it don't show error\n",
        "```\n",
        "2. Private -> Private variables and methods are only accessible in class. It can be defined using __(double underscore) before the variable.\n",
        "\n",
        "```\n",
        "class Student:\n",
        "  def __init__(self,name):\n",
        "    self.__name=name\n",
        "obj=Student('Shubh')\n",
        "#We can't access name outside class\n",
        "obj.name #it will show error\n",
        "#to get name we have to access by\n",
        "obj._Student__name\n",
        "```\n",
        "3. Protected -> Protected members can only be accessed within the class and its subclass. They are defined using single underscore(_) before the attribute.\n",
        "\n",
        "```\n",
        "class Children:\n",
        "  def __init__(self,name):\n",
        "    self._name=name\n",
        "class Student(Children):\n",
        "  def __init__(self,name):\n",
        "    super().__init__(name)\n",
        "  def show(self):\n",
        "    print('My name is ',self._name)\n",
        "obj=Student('Shubh')\n",
        "obj.show()\n",
        "obj._name #gives error\n",
        "```\n",
        "\n",
        "**Q.9 What is a constructor in Python?**\n",
        "- Constructor is a method which is invoked automatically when an object is created.It is used to initialized object with certain properties. In python, __init__ method is a constructor which is also known as magic or dunder method.\n",
        "\n",
        "```\n",
        "class Student:\n",
        "  def __init__(self,name,course):\n",
        "    self.name=name\n",
        "    self.course=course\n",
        "obj=Student('Shubh','Data Science')\n",
        "print(f'{obj.name} is enrolled in {obj.course}')\n",
        "```\n",
        "\n",
        "*Q.10 What are class and static methods in Python?**\n",
        "- A class method takes cls as the first parameter while a static method have no such parameter. Both Static and Class methods are  bounded to the class and not to the particular object of class. The main difference in functionality between them is that class method can access or modify the state of class but static method can't do that.\n",
        "\n",
        "```\n",
        "#Class Method\n",
        "class Student:\n",
        "  def __init__(self,name):\n",
        "    self.name=name\n",
        "  @classmethod\n",
        "  def show(cls,name):\n",
        "    return cls(name)\n",
        "obj=Student.show('Shubh')\n",
        "print(obj.name)\n",
        "```\n",
        "\n",
        "```\n",
        "#Static Method\n",
        "class Student:\n",
        "  @staticmethod\n",
        "  def max_marks(a,b):\n",
        "    return max(a,b)\n",
        "Student.max_marks(40,20)\n",
        "```\n",
        "\n",
        "*Q.11 What is method overloading in Python?**\n",
        "- In method overloading multiple functions are created with same name but different number or type of parameters. Even though, python donot support method overloading directly but in other languages this exists. In python, only latest function is used.\n",
        "\n",
        "```\n",
        "# In python, only recent function will run\n",
        "class PwSkills:\n",
        "  def student_details(self,name):\n",
        "    print('Hi! ',name)\n",
        "  def student_details(self,name,course):\n",
        "    print(f'Hi! {name} to {course}')\n",
        "stud1=PwSkills('Shubh')\n",
        "stud2=PwSkills('Shubh','Data Science')\n",
        "```\n",
        "\n",
        "*Q.12 What is method overriding in OOP?**\n",
        "- Method overriding occurs when there exists same function having same name and parameters in both the parent as well as child class then the function of child class will be executed that is parent class method is overrided by child class methos.\n",
        "\n",
        "```\n",
        "class Vehicles:\n",
        "  def color(self):\n",
        "    print(\"Color is red...\")\n",
        "class Car(Vehicles):\n",
        "  def color(self):\n",
        "    print(\"Color is black...\")\n",
        "obj=Car()\n",
        "obj.color() # Output is Color is black...\n",
        "```\n",
        "\n",
        "*Q.13 What is a property decorator in Python?**\n",
        "- Property decorator allows method to be accessed as attribute. It allows users to modify the functions without changing theit main logic.\n",
        "\n",
        "```\n",
        "class Circle:\n",
        "  def __init__(self,radius):\n",
        "    self.radius=radius\n",
        "  @property\n",
        "  def area(self):\n",
        "    return 3.14 * (self.radius ** 2)\n",
        "obj1=Circle(4)\n",
        "obj1.area\n",
        "```\n",
        "\n",
        "*Q.14 Why is polymorphism important in OOP?**\n",
        "- Polymorphism is a concept which allows user to redefine certain methods in certain conditions like changes in number or type of parameter or in case of derived class. It is an ability of an object to take many forms in different instances. By polmorphism it is possible for an object to respond according to its class properties. Example: + symbol adds if data type is int but concatenate if it is string or list.\n",
        "\n",
        "*Q.15 What is an abstract class in Python?**\n",
        "- Abstract class is a class that is used to implement abstraction that is to hide unncessary details from the users. It only define methods which can be implement in its subclasses.\n",
        "\n",
        "```\n",
        "import abc\n",
        "class Vehicles:\n",
        "  @abc.abstractmethod\n",
        "  def speed(self):\n",
        "    pass\n",
        "class Car(Vehicles):\n",
        "  def speed(self):\n",
        "    return \"Speed of car!!\"\n",
        "obj=Car()\n",
        "```\n",
        "\n",
        "*Q.16 What are the advantages of OOP?**\n",
        "-\n",
        "\n",
        " *   It makes code reusable that saves time of users\n",
        " *   OOPs approach is easy to build and debugg.\n",
        " *   It helps developers to hide data and implementation to make secure programs.\n",
        " *   By using inheritance redundance code is eliminated\n",
        " *   It makes code organized and easy to read\n",
        "\n",
        "**Q.17 What is the difference between a class variable and an instance variable?**\n",
        "- Class variables are static variable and they are common to all the instances of the class whereas instance variables are unique to particular object. Class variables can be accessed by both class and objects whereas instance variables can only be accessed by the objects. In class variables changes made will reflect in all instances but in instance variables changes are only applied to specific instance.\n",
        "\n",
        "```\n",
        "class Student:\n",
        "  #This is class variable\n",
        "  total_students=0\n",
        "  def __init__(self,name):\n",
        "    total_students+=1\n",
        "    # This is instance variable\n",
        "    self.name=name\n",
        "obj=Student('shubh')\n",
        "print(obj.name)\n",
        "print(obj.total_students)\n",
        "\n",
        "```\n",
        "\n",
        "**Q.18 What is multiple inheritance in Python?**\n",
        "- In this child class is derived from multiple (more than one) parent classes. The class written first in paranthesis while deriving is the one whose methods or variables are executed, if there is function in one or more base class.\n",
        "\n",
        "```\n",
        "class Base1:\n",
        "  pass\n",
        "class Base2:\n",
        "  pass\n",
        "class Derived(Base1,Base2):\n",
        "  pass\n",
        "```\n",
        "\n",
        "**Q.19 Explain the purpose of `__str__` and `__repr__` methods in Python.**\n",
        "- Both `__str__` and `__repr__` methods return string representation of the object. `__str__` is used for informal string representation whereas `__repr__` is used for formal string representations and returns umambiguous string representation that can be used to recreate the object.\n",
        "\n",
        "```\n",
        "class Student:\n",
        "  def __init__(self,name):\n",
        "    self.name=name\n",
        "  def __str__(self):\n",
        "    return \"Print will show this\"\n",
        "print(Student('shubh'))\n",
        "```\n",
        "\n",
        "```\n",
        "class Student:\n",
        "  def __init__(self,name):\n",
        "    self.name=name\n",
        "  def __repr__(self):\n",
        "    return \"Print will show this\"\n",
        "print(Student('shubh'))\n",
        "```\n",
        "\n",
        "**Q.20 What is the significance of the `super()` function in Python?**\n",
        "- `Super()` function is used to get access to methods and properties of parent or sibling class from the base class. This returns an object of the parent class.\n",
        "\n",
        "```\n",
        "class Children:\n",
        "  def __init__(self,name):\n",
        "    self.name=name\n",
        "class Student(Children):\n",
        "  def __init__(self,name,course):\n",
        "    super().__init__(name)\n",
        "    self.course=course\n",
        "obj=Student('Shubh','Data Science')\n",
        "```\n",
        "\n",
        "**Q.21 What is the significance of the `__del__` method in Python?**\n",
        "- `__del__` is a dunder method that is called when an object is destroyed. It is destructor method that is called as soon as object is deleted so that all the unnecessary garbage is deleted.\n",
        "\n",
        "```\n",
        "class Demo:\n",
        "  def __init__(self):\n",
        "    print('Object is created')\n",
        "  def __del__(self):\n",
        "    print('Object is deleted')\n",
        "```\n",
        "\n",
        "**Q.22 What is the difference between @staticmethod and @classmethod in Python?**\n",
        "- A class method can access or modify the class state but static method can't access or modify it. Class method have cls as the first parameter while a static method need no parameter. Static methods are simply utility based methods that work upon parameters which are passed to it.\n",
        "\n",
        "```\n",
        "#Class Method\n",
        "class Student:\n",
        "  def __init__(self,name):\n",
        "    self.name=name\n",
        "  @classmethod\n",
        "  def show(cls,name):\n",
        "    return cls(name)\n",
        "obj=Student.show('Shubh')\n",
        "print(obj.name)\n",
        "```\n",
        "\n",
        "```\n",
        "#Static Method\n",
        "class Student:\n",
        "  @staticmethod\n",
        "  def max_marks(a,b):\n",
        "    return max(a,b)\n",
        "Student.max_marks(40,20)\n",
        "```\n",
        "\n",
        "**Q.23 How does polymorphism work in Python with inheritance?**\n",
        "- While inheriting, method overriding occurs in which child class methods are overrides the parent class whenever there is a method with same name in both class.\n",
        "\n",
        "```\n",
        "class shape:\n",
        "  def area(self):\n",
        "    return 'Not Defined'\n",
        "class square(shape):\n",
        "  def __init__(self,a):\n",
        "    self.a=a\n",
        "  def area(self):\n",
        "    a=self.a\n",
        "    return a*a\n",
        "obj=square(10)\n",
        "#Now, square class area is runned...\n",
        "obj.area()\n",
        "```\n",
        "\n",
        "**Q.24 What is method chaining in Python OOP?**\n",
        "- Method chaining refers to calling multiple methods on a same object in a single expression. Each method returns an object, allowing the subsequent method to operate on that object.\n",
        "\n",
        "```\n",
        "str=\"My Name is Shubh\"\n",
        "str.capitalize().replace(\"shubh\",\"ishank\").split()\n",
        "```\n",
        "\n",
        "**Q.25 What is the purpose of the `__call__` method in Python?**\n",
        "- `__call__` method is a dunder method in which the instances of a class act as functions and can be invoked just like we call functions.\n",
        "\n",
        "```\n",
        "class Multiplier:\n",
        "  def __init__(self,factor):\n",
        "    self.factor=factor\n",
        "  def __call__(self,mul):\n",
        "    return mul*self.factor\n",
        "tripler=Multiplier(3)\n",
        "print(tripler(10))\n",
        "```"
      ],
      "metadata": {
        "id": "3HAX-3TLDlAQ"
      }
    },
    {
      "cell_type": "code",
      "source": [
        "#1. Create a parent class Animal with a method speak() that prints a generic message.\n",
        "#Create a child class Dog that overrides the speak() method to print \"Bark!\".\n",
        "class Animal:\n",
        "  def speak(self):\n",
        "    print('Animal voice is not known')\n",
        "class Dog(Animal):\n",
        "  def speak(self):\n",
        "    print('Bark!')\n",
        "obj=Dog()\n",
        "obj.speak()"
      ],
      "metadata": {
        "colab": {
          "base_uri": "https://localhost:8080/"
        },
        "id": "pUi8QQzpDJgY",
        "outputId": "eff7c1dc-160f-4d93-ed27-5c418c212173"
      },
      "execution_count": 5,
      "outputs": [
        {
          "output_type": "stream",
          "name": "stdout",
          "text": [
            "Bark!\n"
          ]
        }
      ]
    },
    {
      "cell_type": "code",
      "source": [
        "#2. Write a program to create an abstract class Shape with a method area().\n",
        "#Derive classes Circle and Rectangle from it and implement the area() method in both\n",
        "class Shape:\n",
        "  def area(self):\n",
        "    return 'Not Defined'\n",
        "class Rectangle(Shape):\n",
        "  def __init__(self,l,b):\n",
        "    self.l=l\n",
        "    self.b=b\n",
        "  def area(self):\n",
        "    return self.l * self.b\n",
        "class Circle(Shape):\n",
        "  def __init__(self,r):\n",
        "    self.r=r\n",
        "  def area(self):\n",
        "    return 3.14 * (self.r ** 2)\n",
        "obj1=Rectangle(10,2)\n",
        "print(obj1.area())\n",
        "obj2=Circle(10)\n",
        "obj2.area()"
      ],
      "metadata": {
        "colab": {
          "base_uri": "https://localhost:8080/"
        },
        "id": "6xJoJlNrDt91",
        "outputId": "792e910d-7f8b-460f-9f5f-c633aa2b2693"
      },
      "execution_count": 7,
      "outputs": [
        {
          "output_type": "stream",
          "name": "stdout",
          "text": [
            "20\n"
          ]
        },
        {
          "output_type": "execute_result",
          "data": {
            "text/plain": [
              "314.0"
            ]
          },
          "metadata": {},
          "execution_count": 7
        }
      ]
    },
    {
      "cell_type": "code",
      "source": [
        "#3.  Implement a multi-level inheritance scenario where a class Vehicle has an attribute type.\n",
        "# Derive a class Car and further derive a class ElectricCar that adds a battery attribute.\n",
        "class Vehicle:\n",
        "  def __init__(self,type):\n",
        "    self.type=type\n",
        "class Car(Vehicle):\n",
        "  def __init__(self,type):\n",
        "    super().__init__(type)\n",
        "class ElectricCar(Car):\n",
        "  def __init__(self,type,battery):\n",
        "    super().__init__(type)\n",
        "    self.battery=battery\n",
        "obj=ElectricCar('SUV','Gel Battery')\n",
        "print(f'Type is {obj.type}, battery is {obj.battery}')"
      ],
      "metadata": {
        "colab": {
          "base_uri": "https://localhost:8080/"
        },
        "id": "84bfaoanEYOJ",
        "outputId": "1417044e-c47e-4e3c-cdd2-42e7e63f065f"
      },
      "execution_count": 10,
      "outputs": [
        {
          "output_type": "stream",
          "name": "stdout",
          "text": [
            "Type is SUV, battery is Gel Battery\n"
          ]
        }
      ]
    },
    {
      "cell_type": "code",
      "source": [
        "#4.  Demonstrate polymorphism by creating a base class Bird with a method fly().\n",
        "# Create two derived classes Sparrow and Penguin that override the fly() method.\n",
        "class Bird:\n",
        "  def fly(self):\n",
        "    print('bird is unknown')\n",
        "class Sparrow(Bird):\n",
        "  def fly(self):\n",
        "    print('Flies like Sparrow')\n",
        "class Penguin(Bird):\n",
        "  def fly(self):\n",
        "    print('It don\\'t fly')\n",
        "obj1=Sparrow()\n",
        "obj2=Penguin()\n",
        "obj1.fly()\n",
        "obj2.fly()"
      ],
      "metadata": {
        "colab": {
          "base_uri": "https://localhost:8080/"
        },
        "id": "xdRwtRgeFyU7",
        "outputId": "c56e9ec8-ea9c-4a55-f111-c7c2d732460b"
      },
      "execution_count": 11,
      "outputs": [
        {
          "output_type": "stream",
          "name": "stdout",
          "text": [
            "Flies like Sparrow\n",
            "It don't fly\n"
          ]
        }
      ]
    },
    {
      "cell_type": "code",
      "source": [
        "#5. Write a program to demonstrate encapsulation by creating a class BankAccount\n",
        "# with private attributes balance and methods to deposit, withdraw, and check balance.\n",
        "class BankAccount:\n",
        "  def __init__(self,balance):\n",
        "    self.__balance=balance # It is private variable\n",
        "  def deposit(self,amt):\n",
        "    self.__balance += amt\n",
        "    print(f'Amount of {amt} is deposited!')\n",
        "  def withdraw(self,amt):\n",
        "    self.__balance -= amt\n",
        "    print(f'Amount of {amt} is withdrawed!')\n",
        "  def check_balance(self):\n",
        "    print(f'Balance is {self.__balance}')\n",
        "obj=BankAccount(5000)\n",
        "obj.check_balance()\n",
        "obj.deposit(10000)\n",
        "obj.withdraw(5000)\n",
        "obj.check_balance()"
      ],
      "metadata": {
        "colab": {
          "base_uri": "https://localhost:8080/"
        },
        "id": "HYEbX-bkHEYM",
        "outputId": "ad8a36f4-c373-48f4-9078-23220c4a13b7"
      },
      "execution_count": 12,
      "outputs": [
        {
          "output_type": "stream",
          "name": "stdout",
          "text": [
            "Balance is 5000\n",
            "Amount of 10000 is deposited!\n",
            "Amount of 5000 is withdrawed!\n",
            "Balance is 10000\n"
          ]
        }
      ]
    },
    {
      "cell_type": "code",
      "source": [
        "#6.  Demonstrate runtime polymorphism using a method play() in a base class Instrument.\n",
        "# Derive classes Guitar and Piano that implement their own version of play().\n",
        "class Instrument:\n",
        "  def play(self):\n",
        "    print('Type of Instrument is unknown...')\n",
        "class Guitar(Instrument):\n",
        "  def play(self):\n",
        "    print('This object plays Guitar...')\n",
        "class Piano(Instrument):\n",
        "  def play(self):\n",
        "    print('This object plays Piano...')\n",
        "obj1=Guitar()\n",
        "obj2=Piano()\n",
        "obj1.play()\n",
        "obj2.play()"
      ],
      "metadata": {
        "colab": {
          "base_uri": "https://localhost:8080/"
        },
        "id": "RPxzWD0UJmYB",
        "outputId": "20350f4d-4b4c-45e0-b7ba-7a76408cca19"
      },
      "execution_count": 14,
      "outputs": [
        {
          "output_type": "stream",
          "name": "stdout",
          "text": [
            "This object plays Guitar...\n",
            "This object plays Piano...\n"
          ]
        }
      ]
    },
    {
      "cell_type": "code",
      "source": [
        "#7. Create a class MathOperations with a class method add_numbers() to add two\n",
        "# numbers and a static method subtract_numbers() to subtract two numbers.\n",
        "class MathOperations:\n",
        "  @classmethod\n",
        "  def add_numbers(cls,a,b):\n",
        "    return a+b\n",
        "  @staticmethod\n",
        "  def subtract_numbers(a,b):\n",
        "    return abs(a-b)\n",
        "print(MathOperations.add_numbers(10,30))\n",
        "print(MathOperations.subtract_numbers(10,30))"
      ],
      "metadata": {
        "colab": {
          "base_uri": "https://localhost:8080/"
        },
        "id": "_tH_DJiuL4nG",
        "outputId": "1403b80e-28f0-4a46-cd09-3a597a4b1f21"
      },
      "execution_count": 15,
      "outputs": [
        {
          "output_type": "stream",
          "name": "stdout",
          "text": [
            "40\n",
            "20\n"
          ]
        }
      ]
    },
    {
      "cell_type": "code",
      "source": [
        "#8. Implement a class Person with a class method to count the total number of persons created.\n",
        "class Person:\n",
        "  total=0\n",
        "  def __init__(self):\n",
        "    Person.total+=1\n",
        "  @classmethod\n",
        "  def total_persons(cls):\n",
        "    print('Total number of persons are : ',cls.total)\n",
        "obj1=Person()\n",
        "obj2=Person()\n",
        "obj3=Person()\n",
        "Person.total_persons()"
      ],
      "metadata": {
        "colab": {
          "base_uri": "https://localhost:8080/"
        },
        "id": "48MkCsaKM7zl",
        "outputId": "473f1f3b-ebc2-49d6-beaa-c410a30adfdd"
      },
      "execution_count": 18,
      "outputs": [
        {
          "output_type": "stream",
          "name": "stdout",
          "text": [
            "Total number of persons are :  3\n"
          ]
        }
      ]
    },
    {
      "cell_type": "code",
      "source": [
        "#9. Write a class Fraction with attributes numerator and denominator.\n",
        "# Override the str method to display the fraction as \"numerator/denominator\"\n",
        "class Fraction:\n",
        "  def __init__(self,num,dem):\n",
        "    self.numerator=num\n",
        "    self.denominator=dem\n",
        "  def __str__(self):\n",
        "    return f'Fraction is {self.numerator}/{self.denominator}'\n",
        "obj=Fraction(12.3,14)\n",
        "print(obj)"
      ],
      "metadata": {
        "colab": {
          "base_uri": "https://localhost:8080/"
        },
        "id": "QDsFQN9dNsfb",
        "outputId": "5748edbe-6898-4ccf-b7e2-a1ad052802be"
      },
      "execution_count": 19,
      "outputs": [
        {
          "output_type": "stream",
          "name": "stdout",
          "text": [
            "Fraction is 12.3/14\n"
          ]
        }
      ]
    },
    {
      "cell_type": "code",
      "source": [
        "#10.  Demonstrate operator overloading by creating a class Vector and overriding the add method to add two vectors.\n",
        "class Vector:\n",
        "  def __init__(self,x,y):\n",
        "    self.x=x\n",
        "    self.y=y\n",
        "  def __add__(self,other):\n",
        "    self.x += other.x\n",
        "    self.y += other.y\n",
        "    print('Addition done ')\n",
        "    return self.x, self.y\n",
        "obj1=Vector(3,5)\n",
        "obj2=Vector(2,4)\n",
        "print(obj1+obj2)"
      ],
      "metadata": {
        "colab": {
          "base_uri": "https://localhost:8080/"
        },
        "id": "Mser7EzzOtfB",
        "outputId": "6ef0c3dd-33a3-40f2-a51c-336e1b5ca466"
      },
      "execution_count": 21,
      "outputs": [
        {
          "output_type": "stream",
          "name": "stdout",
          "text": [
            "Addition done \n",
            "(5, 9)\n"
          ]
        }
      ]
    },
    {
      "cell_type": "code",
      "source": [
        "#11. Create a class Person with attributes name and age.\n",
        "# Add a method greet() that prints \"Hello, my name is {name} and I am {age} years old.\n",
        "class Person:\n",
        "  def __init__(self,name,age):\n",
        "    self.name=name\n",
        "    self.age=age\n",
        "  def greet(self):\n",
        "    print(f'Hello, my name is {self.name} and I am {self.age} years old.')\n",
        "obj=Person('Shubh',21)\n",
        "obj.greet()"
      ],
      "metadata": {
        "colab": {
          "base_uri": "https://localhost:8080/"
        },
        "id": "pA53bgxdUosD",
        "outputId": "182a87f6-caee-47a8-897a-b3c053c0cb1c"
      },
      "execution_count": 22,
      "outputs": [
        {
          "output_type": "stream",
          "name": "stdout",
          "text": [
            "Hello, my name is Shubh and I am 21 years old.\n"
          ]
        }
      ]
    },
    {
      "cell_type": "code",
      "source": [
        "#12. Implement a class Student with attributes name and grades. Create a method average_grade() to compute the average of the grades\n",
        "class Student:\n",
        "  def __init__(self,name,grades):\n",
        "    self.name=name\n",
        "    self.grades=grades\n",
        "  def average_grade(self):\n",
        "    total=0\n",
        "    for i in self.grades:\n",
        "      total+=i\n",
        "    return total/len(self.grades)\n",
        "obj= Student('shubh',[94,95,95,95,95])\n",
        "print(obj.average_grade())"
      ],
      "metadata": {
        "colab": {
          "base_uri": "https://localhost:8080/"
        },
        "id": "RnbpfntQVZVl",
        "outputId": "071df365-fddd-4d85-c26b-89e396baca2a"
      },
      "execution_count": 32,
      "outputs": [
        {
          "output_type": "stream",
          "name": "stdout",
          "text": [
            "94.8\n"
          ]
        }
      ]
    },
    {
      "cell_type": "code",
      "source": [
        "#13. Create a class Rectangle with methods set_dimensions() to set the dimensions and area() to calculate the area.\n",
        "class Rectangle:\n",
        "  l=0\n",
        "  b=0\n",
        "  def set_dimensions(self,l,b):\n",
        "    self.l=l\n",
        "    self.b=b\n",
        "  def area(self):\n",
        "    return self.l * self.b\n",
        "obj= Rectangle()\n",
        "obj.set_dimensions(10,20)\n",
        "print(obj.area())\n"
      ],
      "metadata": {
        "colab": {
          "base_uri": "https://localhost:8080/"
        },
        "id": "4Ym3zdN1WOWy",
        "outputId": "db7a0980-e39e-4921-f4cb-1fdd7019a52d"
      },
      "execution_count": 37,
      "outputs": [
        {
          "output_type": "stream",
          "name": "stdout",
          "text": [
            "200\n"
          ]
        }
      ]
    },
    {
      "cell_type": "code",
      "source": [
        "#14. Create a class Employee with a method calculate_salary() that computes the salary based on hours worked and hourly rate.\n",
        "# Create a derived class Manager that adds a bonus to the salary.\n",
        "class Employee:\n",
        "  def __init__(self):\n",
        "    self.salary=0\n",
        "  def calculate_salary(self,hours,rate):\n",
        "    self.salary += hours*rate\n",
        "    return self.salary\n",
        "class Manager(Employee):\n",
        "  def __init__(self):\n",
        "    super().__init__()\n",
        "  def bonus(self,amt):\n",
        "    self.salary += amt\n",
        "obj= Manager()\n",
        "obj.calculate_salary(14,10000)\n",
        "obj.bonus(1000)\n",
        "print(obj.salary)"
      ],
      "metadata": {
        "colab": {
          "base_uri": "https://localhost:8080/"
        },
        "id": "6mVfkNXuXwM0",
        "outputId": "c276a264-80d7-4430-b8af-f90852096282"
      },
      "execution_count": 38,
      "outputs": [
        {
          "output_type": "stream",
          "name": "stdout",
          "text": [
            "141000\n"
          ]
        }
      ]
    },
    {
      "cell_type": "code",
      "source": [
        "#15. Create a class Product with attributes name, price, and quantity.\n",
        "# Implement a method total_price() that calculates the total price of the product.\n",
        "class Product:\n",
        "  def __init__(self,name,price,quantity):\n",
        "    self.name = name\n",
        "    self.price = price\n",
        "    self.quantity = quantity\n",
        "  def total_price(self):\n",
        "    return self.price * self.quantity\n",
        "obj = Product('Pen',10,10)\n",
        "print(obj.total_price())"
      ],
      "metadata": {
        "colab": {
          "base_uri": "https://localhost:8080/"
        },
        "id": "k3ZKFg3MaIPb",
        "outputId": "1490cb07-65ce-4e40-bbfa-79120cc5b976"
      },
      "execution_count": 39,
      "outputs": [
        {
          "output_type": "stream",
          "name": "stdout",
          "text": [
            "100\n"
          ]
        }
      ]
    },
    {
      "cell_type": "code",
      "source": [
        "#16. Create a class Animal with an abstract method sound(). Create two derived classes Cow and Sheep that implement the sound() method.\n",
        "import abc\n",
        "class Animal:\n",
        "  @abc.abstractmethod\n",
        "  def sound(self):\n",
        "    pass\n",
        "class Cow(Animal):\n",
        "  def sound(self):\n",
        "    print('Sound of Cow')\n",
        "class Sheep(Animal):\n",
        "  def sound(self):\n",
        "    print('Sound of Sheep')\n",
        "obj1=Cow()\n",
        "obj1.sound()\n",
        "obj2=Sheep()\n",
        "obj2.sound()"
      ],
      "metadata": {
        "colab": {
          "base_uri": "https://localhost:8080/"
        },
        "id": "fxHizHSCbCqr",
        "outputId": "60debeff-198b-48e4-b353-ac0457049bc9"
      },
      "execution_count": 43,
      "outputs": [
        {
          "output_type": "stream",
          "name": "stdout",
          "text": [
            "Sound of Cow\n",
            "Sound of Sheep\n"
          ]
        }
      ]
    },
    {
      "cell_type": "code",
      "source": [
        "#17. Create a class Book with attributes title, author, and year_published.\n",
        "# Add a method get_book_info() that returns a formatted string with the book's details\n",
        "class Book:\n",
        "  def __init__(self,title,author,year_published):\n",
        "    self.title=title\n",
        "    self.author=author\n",
        "    self.year_published=year_published\n",
        "  def get_book_info(self):\n",
        "    print(f'The book {self.title} written by {self.author} is published in {self.year_published}.')\n",
        "obj=Book('Harry Potter','J.K Rowling',2000)\n",
        "obj.get_book_info()"
      ],
      "metadata": {
        "colab": {
          "base_uri": "https://localhost:8080/"
        },
        "id": "qHMxRIgQbmcM",
        "outputId": "640b2445-f903-43a5-9f5a-77a01ddc8125"
      },
      "execution_count": 45,
      "outputs": [
        {
          "output_type": "stream",
          "name": "stdout",
          "text": [
            "The book Harry Potter written by J.K Rowling is published in 2000.\n"
          ]
        }
      ]
    },
    {
      "cell_type": "code",
      "source": [
        "#18. Create a class House with attributes address and price. Create a derived class Mansion that adds an attribute number_of_rooms.\n",
        "class House:\n",
        "  def __init__(self,address,price):\n",
        "    self.address=address\n",
        "    self.price=price\n",
        "class Manison(House):\n",
        "  def __init__(self,address,price,number_of_rooms):\n",
        "    super().__init__(address,price)\n",
        "    self.number_of_rooms=number_of_rooms\n",
        "obj=Manison('Chandigarh',10000000,4)\n",
        "obj.price"
      ],
      "metadata": {
        "colab": {
          "base_uri": "https://localhost:8080/"
        },
        "id": "0H-Uok21d2xk",
        "outputId": "7dc30229-6ff9-4c19-976e-2928ca064c5c"
      },
      "execution_count": 46,
      "outputs": [
        {
          "output_type": "execute_result",
          "data": {
            "text/plain": [
              "10000000"
            ]
          },
          "metadata": {},
          "execution_count": 46
        }
      ]
    }
  ]
}